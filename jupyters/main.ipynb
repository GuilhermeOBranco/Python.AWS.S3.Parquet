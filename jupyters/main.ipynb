{
 "cells": [
  {
   "cell_type": "code",
   "execution_count": 2,
   "metadata": {},
   "outputs": [
    {
     "name": "stdout",
     "output_type": "stream",
     "text": [
      "  username      senha\n",
      "0  Senha 0  Usuario 0\n",
      "1  Senha 1  Usuario 1\n",
      "2  Senha 2  Usuario 2\n",
      "3  Senha 3  Usuario 3\n",
      "4  Senha 4  Usuario 4\n"
     ]
    }
   ],
   "source": [
    "import pandas as pd\n",
    "import boto3\n",
    "import os\n",
    "import math\n",
    "from boto3.s3.transfer import TransferConfig\n",
    "\n",
    "# df_csv = pd.read_csv('../files/usuarios_csv.csv')\n",
    "df_parquet = pd.read_parquet('../files/usuarios_parquet_hoje')\n",
    "\n",
    "# print(df_csv.head())\n",
    "print(df_parquet.head())\n",
    "\n",
    "# df_csv.shape()\n",
    "# df_parquet.shape()\n",
    "\n",
    "\n"
   ]
  }
 ],
 "metadata": {
  "kernelspec": {
   "display_name": "Python 3.10.5 64-bit",
   "language": "python",
   "name": "python3"
  },
  "language_info": {
   "codemirror_mode": {
    "name": "ipython",
    "version": 3
   },
   "file_extension": ".py",
   "mimetype": "text/x-python",
   "name": "python",
   "nbconvert_exporter": "python",
   "pygments_lexer": "ipython3",
   "version": "3.10.5"
  },
  "orig_nbformat": 4,
  "vscode": {
   "interpreter": {
    "hash": "369f2c481f4da34e4445cda3fffd2e751bd1c4d706f27375911949ba6bb62e1c"
   }
  }
 },
 "nbformat": 4,
 "nbformat_minor": 2
}
